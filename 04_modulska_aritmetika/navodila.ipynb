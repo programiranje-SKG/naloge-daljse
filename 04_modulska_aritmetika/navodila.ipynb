{
 "cells": [
  {
   "attachments": {},
   "cell_type": "markdown",
   "metadata": {},
   "source": [
    "# Modulska aritmetika\n",
    "## Uvod\n",
    "Za podano praštevilo $p$, imenovano modul, definirajmo množico $Z_p = \\{0, 1, ... , p-1\\}$. Za\n",
    "števila iz te množice sta operaciji *modulskega seštevanja* ($\\oplus$) in modulskega množenja ($\\otimes$)\n",
    "definirani takole: \n",
    "\n",
    "$a \\oplus b = (a + b) \\; mod \\; p$ \\\n",
    "$a \\otimes b = (a * b) \\; mod \\; p$ \n",
    "\n",
    "Zapis $s \\; mod \\; t$ predstavlja ostanek pri deljenju števila $s$ s številom $t$.\n",
    "Modulska *nasprotna vrednost* števila $a$ je število $\\={a}$, za katero velja $a \\oplus \\={a} = 0$. Modulska *obratna vrednost* števila $a \\neq 0$ je število $a*$, za katero velja $a \\otimes a* = 1$. Sedaj lahko definiramo tudi operaciji *modulskega odštevanja* ($ \\ominus $) in modulskega deljenja ($\\oslash$):\n",
    "\n",
    "$a \\ominus b = a \\oplus \\={b}$ \\\n",
    "$a \\oslash b = a \\otimes b*$ (pri pogoju $b \\neq 0$)\n",
    "\n",
    "Na primer, elementi množice $Z_7$ se med sabo modulsko seštevajo, odštevajo, množijo in\n",
    "delijo takole:"
   ]
  },
  {
   "attachments": {},
   "cell_type": "markdown",
   "metadata": {},
   "source": [
    "![tabele](./Z7_tabele.png)"
   ]
  },
  {
   "attachments": {},
   "cell_type": "markdown",
   "metadata": {},
   "source": [
    "(se nadaljuje)"
   ]
  }
 ],
 "metadata": {
  "language_info": {
   "name": "python"
  },
  "orig_nbformat": 4
 },
 "nbformat": 4,
 "nbformat_minor": 2
}
